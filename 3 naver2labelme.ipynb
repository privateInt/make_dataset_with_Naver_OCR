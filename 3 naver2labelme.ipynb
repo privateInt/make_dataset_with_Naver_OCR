{
 "cells": [
  {
   "cell_type": "code",
   "execution_count": 1,
   "id": "0cda51d6-02eb-40f3-a086-60cc0706ad8b",
   "metadata": {},
   "outputs": [],
   "source": [
    "from glob import glob\n",
    "from PIL import Image\n",
    "from tqdm import tqdm\n",
    "import os\n",
    "import cv2\n",
    "import json\n",
    "import shutil\n",
    "import base64\n",
    "import numpy as np"
   ]
  },
  {
   "cell_type": "code",
   "execution_count": 2,
   "id": "4139f852-7b4e-4009-860c-a77136d38974",
   "metadata": {},
   "outputs": [],
   "source": [
    "root_path = \"/home/ubuntu/workspace/seunghoon/z_dataset\"\n",
    "target_folder_name = \"diablo2_dataset_ver2\"\n",
    "\n",
    "src_folder_name = \"labelme_dataset_processing2\"\n",
    "dst_folder_name = \"labelme_dataset_processing3\""
   ]
  },
  {
   "cell_type": "code",
   "execution_count": 3,
   "id": "462e0cb1-902d-48bf-a2cc-a0c6caadaa38",
   "metadata": {},
   "outputs": [
    {
     "name": "stdout",
     "output_type": "stream",
     "text": [
      "22886\n"
     ]
    }
   ],
   "source": [
    "src_imgs = glob(os.path.join(root_path, target_folder_name, src_folder_name, \"*\"))\n",
    "src_imgs = [i for i in src_imgs if \".png\" in i or \".jpg\" in i and not \".json\" in i]\n",
    "print(len(src_imgs))"
   ]
  },
  {
   "cell_type": "code",
   "execution_count": null,
   "id": "b2a83911-7d43-4962-9813-f5c510d1b910",
   "metadata": {},
   "outputs": [
    {
     "name": "stderr",
     "output_type": "stream",
     "text": [
      "  0%|          | 74/22886 [00:01<07:59, 47.53it/s]Invalid SOS parameters for sequential JPEG\n",
      "  6%|▋         | 1441/22886 [00:45<06:37, 53.89it/s] Invalid SOS parameters for sequential JPEG\n",
      "  8%|▊         | 1843/22886 [00:56<13:44, 25.53it/s]Invalid SOS parameters for sequential JPEG\n",
      "  9%|▊         | 1994/22886 [01:02<10:13, 34.06it/s]Invalid SOS parameters for sequential JPEG\n",
      " 10%|█         | 2373/22886 [01:12<05:59, 57.01it/s]Invalid SOS parameters for sequential JPEG\n",
      " 12%|█▏        | 2680/22886 [01:21<08:45, 38.45it/s]Invalid SOS parameters for sequential JPEG\n",
      " 12%|█▏        | 2696/22886 [01:21<06:14, 53.96it/s]Invalid SOS parameters for sequential JPEG\n",
      " 12%|█▏        | 2841/22886 [01:24<07:59, 41.78it/s]Invalid SOS parameters for sequential JPEG\n",
      " 14%|█▍        | 3213/22886 [01:34<07:07, 46.03it/s]Invalid SOS parameters for sequential JPEG\n",
      " 17%|█▋        | 3802/22886 [01:50<14:03, 22.62it/s]libpng warning: Unknown iTXt compression type or method\n",
      " 17%|█▋        | 3965/22886 [01:55<05:58, 52.77it/s]Invalid SOS parameters for sequential JPEG\n",
      " 19%|█▉        | 4411/22886 [02:07<06:05, 50.56it/s]"
     ]
    }
   ],
   "source": [
    "save_dir_path = os.path.join(root_path, target_folder_name, dst_folder_name)\n",
    "cnt = 0\n",
    "folder_cnt = 0\n",
    "folder_num = str(folder_cnt).zfill(3)\n",
    "for img in tqdm(src_imgs):  \n",
    "    if cnt % 100 == 0:\n",
    "        folder_cnt += 1\n",
    "        folder_num = str(folder_cnt).zfill(3)\n",
    "        \n",
    "    # labelme_dict 생성\n",
    "    PIL_img = Image.open(img)\n",
    "    width, height = PIL_img.size\n",
    "    \n",
    "    cv_img = cv2.imread(img)\n",
    "    _, img_encoded = cv2.imencode('.jpg', cv_img)\n",
    "    jpg_as_text = base64.b64encode(img_encoded).decode()\n",
    "    \n",
    "    labelme_dict = {\n",
    "        'version': '5.1.1',\n",
    "        'flags': {},\n",
    "        'shapes': [],\n",
    "        'imagePath': f\"C:/{dst_folder_name}/{folder_num}/{os.path.basename(img)}\",\n",
    "        'imageData': jpg_as_text,\n",
    "        'imageHeight': height,\n",
    "        'imageWidth': width\n",
    "    }\n",
    "    \n",
    "    # naver_ocr로 생성된 json에서 필요한 정보만 추출해서 labelme_dict에 추가\n",
    "    json_path = img.replace(os.path.splitext(img)[1], \".json\")\n",
    "    with open(json_path, \"r\")as f:\n",
    "        data = json.load(f)\n",
    "        \n",
    "    for _, v in data.items():\n",
    "        final_text = v[0]\n",
    "        coors = v[1]\n",
    "\n",
    "        left_up = coors[0]\n",
    "        right_up = coors[1]\n",
    "        right_down = coors[2]\n",
    "        left_down = coors[3]\n",
    "        \n",
    "        shape = {\n",
    "            'label': final_text,\n",
    "            'points': [left_up, right_up, right_down, left_down],\n",
    "            'group_id': None,\n",
    "            'shape_type': 'polygon',\n",
    "            'flags': {}\n",
    "        }\n",
    "        labelme_dict['shapes'].append(shape)\n",
    "        \n",
    "    # 이미지와 labelme_dict로 만들어진 json을 1폴더에 100개씩 저장\n",
    "    os.makedirs(os.path.join(save_dir_path, folder_num), exist_ok=True)\n",
    "    \n",
    "    with open(os.path.join(save_dir_path, folder_num, f\"{os.path.splitext(os.path.basename(img))[0]}.json\"), \"w\") as f:\n",
    "        json.dump(labelme_dict, f, ensure_ascii=False, indent = \"\\n\")\n",
    "        \n",
    "    shutil.copy(img, os.path.join(save_dir_path, folder_num, f\"{os.path.basename(img)}\"))\n",
    "        \n",
    "    cnt += 1"
   ]
  }
 ],
 "metadata": {
  "kernelspec": {
   "display_name": "seunghoon",
   "language": "python",
   "name": "seunghoon"
  },
  "language_info": {
   "codemirror_mode": {
    "name": "ipython",
    "version": 3
   },
   "file_extension": ".py",
   "mimetype": "text/x-python",
   "name": "python",
   "nbconvert_exporter": "python",
   "pygments_lexer": "ipython3",
   "version": "3.8.17"
  }
 },
 "nbformat": 4,
 "nbformat_minor": 5
}
