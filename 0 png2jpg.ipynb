{
 "cells": [
  {
   "cell_type": "code",
   "execution_count": 1,
   "id": "087f1bbb-c5f0-4ed5-9625-3078e2d05eee",
   "metadata": {},
   "outputs": [],
   "source": [
    "from glob import glob\n",
    "from PIL import Image\n",
    "from tqdm import tqdm\n",
    "import shutil\n",
    "import os"
   ]
  },
  {
   "cell_type": "code",
   "execution_count": 2,
   "id": "379ac5d8-02e0-47ea-96d3-64aaff891002",
   "metadata": {},
   "outputs": [],
   "source": [
    "root_path = \"/home/ubuntu/workspace/seunghoon/z_dataset\"\n",
    "src_folder_name = \"Trainingset_for_diablo2_src\"\n",
    "dst_folder_name = \"diablo2_dataset\""
   ]
  },
  {
   "cell_type": "code",
   "execution_count": 3,
   "id": "bdba4819-7473-46da-8f8c-4f8ad278d8d2",
   "metadata": {},
   "outputs": [
    {
     "name": "stdout",
     "output_type": "stream",
     "text": [
      "7733\n"
     ]
    }
   ],
   "source": [
    "imgs = glob(os.path.join(root_path, f\"{src_folder_name}/*\"))\n",
    "print(len(imgs))"
   ]
  },
  {
   "cell_type": "code",
   "execution_count": 4,
   "id": "f4e21241-b115-4756-b752-4ea2bef432fa",
   "metadata": {},
   "outputs": [
    {
     "name": "stderr",
     "output_type": "stream",
     "text": [
      "100%|██████████| 7733/7733 [00:00<00:00, 169300.31it/s]"
     ]
    },
    {
     "name": "stdout",
     "output_type": "stream",
     "text": [
      "5551\n"
     ]
    },
    {
     "name": "stderr",
     "output_type": "stream",
     "text": [
      "\n"
     ]
    }
   ],
   "source": [
    "os.makedirs(os.path.join(root_path, f\"{dst_folder_name}/labelme_dataset_org\"), exist_ok=True)\n",
    "cnt = 0\n",
    "for img in tqdm(imgs):\n",
    "    try:\n",
    "        dst_path = os.path.join(root_path, f\"{dst_folder_name}/labelme_dataset_org/{str(cnt).zfill(12)}.jpg\")\n",
    "        if os.path.isfile(dst_path):\n",
    "            continue\n",
    "        PIL_img = Image.open(img)\n",
    "        PIL_img = PIL_img.convert(\"RGB\")\n",
    "        PIL_img.save(dst_path)\n",
    "        cnt += 1\n",
    "    except:\n",
    "        continue\n",
    "print(len(glob(os.path.join(root_path, f\"{dst_folder_name}/labelme_dataset_org/*\"))))"
   ]
  }
 ],
 "metadata": {
  "kernelspec": {
   "display_name": "seunghoon",
   "language": "python",
   "name": "seunghoon"
  },
  "language_info": {
   "codemirror_mode": {
    "name": "ipython",
    "version": 3
   },
   "file_extension": ".py",
   "mimetype": "text/x-python",
   "name": "python",
   "nbconvert_exporter": "python",
   "pygments_lexer": "ipython3",
   "version": "3.8.17"
  }
 },
 "nbformat": 4,
 "nbformat_minor": 5
}
