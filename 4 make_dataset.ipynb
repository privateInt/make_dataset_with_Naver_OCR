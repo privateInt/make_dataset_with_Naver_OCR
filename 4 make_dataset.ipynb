{
 "cells": [
  {
   "cell_type": "code",
   "execution_count": 1,
   "id": "0cda51d6-02eb-40f3-a086-60cc0706ad8b",
   "metadata": {},
   "outputs": [],
   "source": [
    "from glob import glob\n",
    "from tqdm import tqdm\n",
    "from PIL import Image, ImageDraw\n",
    "import numpy as np\n",
    "import os\n",
    "import cv2\n",
    "import csv\n",
    "import json\n",
    "import time\n",
    "import shutil\n",
    "import random\n",
    "\n",
    "from sklearn.model_selection import train_test_split"
   ]
  },
  {
   "cell_type": "code",
   "execution_count": 2,
   "id": "49b6af3c-2df9-40f7-b4e1-4611a4292d71",
   "metadata": {},
   "outputs": [],
   "source": [
    "root_path = \"/home/ubuntu/workspace/seunghoon/z_dataset\"\n",
    "target_folder_name = \"diablo2_dataset_ver2\"\n",
    "\n",
    "src_folder_name = \"labelme_dataset_processing3\"\n",
    "dst_folder_name = \"labelme_dataset_for_recognition\""
   ]
  },
  {
   "cell_type": "code",
   "execution_count": 3,
   "id": "a6648bd6-17fc-4337-b8c6-3b2e8fb64e7b",
   "metadata": {},
   "outputs": [
    {
     "name": "stdout",
     "output_type": "stream",
     "text": [
      "22886\n"
     ]
    }
   ],
   "source": [
    "src_imgs = glob(os.path.join(root_path, target_folder_name, src_folder_name, \"*/*\"))\n",
    "src_imgs = [i for i in src_imgs if \"png\" in i or \"jpg\" in i and not \".json\" in i]\n",
    "print(len(src_imgs))"
   ]
  },
  {
   "cell_type": "code",
   "execution_count": 4,
   "id": "b3c260b2-3e19-4ab3-a1a9-4ab33f9dbe06",
   "metadata": {},
   "outputs": [
    {
     "name": "stderr",
     "output_type": "stream",
     "text": [
      " 91%|█████████▏| 20892/22886 [1:38:26<04:20,  7.65it/s]   IOPub message rate exceeded.\n",
      "The notebook server will temporarily stop sending output\n",
      "to the client in order to avoid crashing it.\n",
      "To change this limit, set the config variable\n",
      "`--NotebookApp.iopub_msg_rate_limit`.\n",
      "\n",
      "Current values:\n",
      "NotebookApp.iopub_msg_rate_limit=1000.0 (msgs/sec)\n",
      "NotebookApp.rate_limit_window=3.0 (secs)\n",
      "\n"
     ]
    }
   ],
   "source": [
    "# make recognition dataset\n",
    "\n",
    "# error_char는 오류가 나는 단어들을 제외해야 할 경우에 사용합니다.\n",
    "# 기본적인 특수문자는 남기는 error_char\n",
    "# error_char = 'ㄷㅇ#.｜°·×˚Ι‧※₩Ⅱ→⇒∙⌜⌟①②③④⑤│■□▣▶◀◆◇◈○●★☆☎☞♡「」『』】ㄴㄹㅁㅏㅔㅗㅣㆍ㎡休元光內前國壬大奉奠子孔家寅年情愛故期木歌死氏海無生祝福秋紀美行辛釋金'\n",
    "# 현재(5.10)는 error_char를 알 수 없으므로 설정하지 않겠습니다.\n",
    "error_char = ''\n",
    "\n",
    "# labelme에서 labeling 작업이 끝난 결과물에서 bbox단위로 crop한 이미지 저장\n",
    "dst_dir_path = os.path.join(root_path, target_folder_name,  dst_folder_name)\n",
    "os.makedirs(os.path.join(dst_dir_path, \"imgs_src\"), exist_ok=True)\n",
    "\n",
    "cnt = 0\n",
    "data_lst = []\n",
    "for img in tqdm(src_imgs):\n",
    "    json_path = img.replace(os.path.splitext(img)[1], \".json\")\n",
    "    with open(json_path, \"r\")as f:\n",
    "        data = json.load(f)\n",
    "        \n",
    "    img_ext = os.path.splitext(img)[-1]\n",
    "    \n",
    "    im = Image.open(img).convert(\"RGBA\")\n",
    "    \n",
    "    for i in data['shapes']:\n",
    "        # if os.path.isfile(os.path.join(dst_dir_path, \"imgs_src\", str(cnt).zfill(12) + img_ext)):\n",
    "        #     continue\n",
    "        if len(i['label']) == 1:\n",
    "            continue\n",
    "        tmp_data = []\n",
    "        polygon = []\n",
    "        x_lst, y_lst = [], []\n",
    "        for pt in i['points']:\n",
    "            polygon.append((int(pt[0]), int(pt[1])))\n",
    "            x_lst.append(int(pt[0]))\n",
    "            y_lst.append(int(pt[1]))\n",
    "        \n",
    "        # convert image to numpy (for convenience)\n",
    "        imArray = np.asarray(im)\n",
    "                         \n",
    "        # create mask\n",
    "        maskIm = Image.new('L', (imArray.shape[1], imArray.shape[0]), 0)\n",
    "        ImageDraw.Draw(maskIm).polygon(polygon, outline=1, fill=1)\n",
    "        mask = np.array(maskIm)\n",
    "        \n",
    "        # assemble new image (unit8: 0~255)\n",
    "        newImArray = np.empty(imArray.shape, dtype='uint8')\n",
    "        \n",
    "        # colors (three first columns, RGB)\n",
    "        newImArray[:,:,:3] = imArray[:,:,:3]\n",
    "        \n",
    "        # transparency (4th column)\n",
    "        newImArray[:,:,3] = mask*255\n",
    "        \n",
    "        # back to Image from numpy\n",
    "        newIm = Image.fromarray(newImArray, \"RGBA\")\n",
    "        \n",
    "        # crop\n",
    "        left = min(x_lst)\n",
    "        right = max(x_lst)\n",
    "        top = min(y_lst)\n",
    "        bottom = max(y_lst)\n",
    "        \n",
    "        newIm = newIm.crop((left, top, right, bottom))\n",
    "        # newIm = newIm.convert(\"RGB\")\n",
    "        \n",
    "        # save img & lst\n",
    "        idx = cnt\n",
    "        dst_path = os.path.join(dst_dir_path, \"imgs_src\", str(cnt).zfill(12) + img_ext)\n",
    "        label = i['label']\n",
    "        \n",
    "        for i in error_char:\n",
    "            label = str(label.replace(i,''))\n",
    "        \n",
    "        label = label.strip()\n",
    "        \n",
    "        if label == '': # label이 없는 것 패스\n",
    "            continue\n",
    "            \n",
    "        # if label == \"v/v\": # v/v인 라벨은 4/4로 수정\n",
    "        #     label = \"4/4\"\n",
    "        \n",
    "        tmp_data.append(idx)\n",
    "        tmp_data.append(dst_path)\n",
    "        tmp_data.append(label)\n",
    "        \n",
    "        data_lst.append(tmp_data)\n",
    "        \n",
    "        newIm.save(dst_path, \"png\")\n",
    "        cnt += 1\n",
    "        \n",
    "# make csv\n",
    "csv_path = os.path.join(dst_dir_path, 'data_src.csv')\n",
    "f = open(csv_path, \"w\")\n",
    "wr = csv.writer(f)\n",
    "wr.writerow(['', 'filename', 'words'])\n",
    "for i in tqdm(data_lst):\n",
    "    wr.writerow(i)\n",
    "    \n",
    "# train_test_split\n",
    "train_lst, tmp_lst = train_test_split(data_lst, test_size=0.2, shuffle=True, random_state=34)\n",
    "test_lst, val_lst = train_test_split(tmp_lst, test_size=0.5, shuffle=True, random_state=34)\n",
    "print(f\"len(train_lst): {len(train_lst)}\")\n",
    "print(f\"len(test_lst): {len(test_lst)}\")\n",
    "print(f\"len(val_lst): {len(val_lst)}\")\n",
    "\n",
    "# save train_test_split_dataset\n",
    "modes = {'train': train_lst, 'test': test_lst, 'val': val_lst}\n",
    "\n",
    "for k, v in modes.items():\n",
    "    mode = k\n",
    "    target_lst = v\n",
    "    \n",
    "    csv_path = os.path.join(dst_dir_path, f\"{mode}_data.csv\")\n",
    "    img_dir_path = os.path.join(dst_dir_path, mode)\n",
    "    os.makedirs(img_dir_path, exist_ok=True)\n",
    "\n",
    "    final_tmp_lst = []\n",
    "    for idx, data in enumerate(tqdm(target_lst)):\n",
    "        tmp_lst = []\n",
    "\n",
    "        img_path = data[1]\n",
    "        label = data[2]\n",
    "\n",
    "        if label != '':\n",
    "            dst_img_path = img_path.replace('imgs_src', mode)\n",
    "\n",
    "            tmp_lst.append(idx)\n",
    "            tmp_lst.append(dst_img_path)\n",
    "            tmp_lst.append(label)\n",
    "\n",
    "            shutil.copy(img_path, dst_img_path)\n",
    "            final_tmp_lst.append(tmp_lst)\n",
    "\n",
    "    f = open(csv_path, \"w\")\n",
    "    wr = csv.writer(f)\n",
    "    wr.writerow(['', 'filename', 'words'])\n",
    "    for i in tqdm(final_tmp_lst):\n",
    "        wr.writerow(i)"
   ]
  },
  {
   "cell_type": "code",
   "execution_count": 5,
   "id": "d64215c2-3182-49c9-b8b9-9f3bd8dc9049",
   "metadata": {},
   "outputs": [
    {
     "name": "stdout",
     "output_type": "stream",
     "text": [
      "crop된 이미지 갯수: 879495\n",
      "879495\n",
      "[879494, '/home/ubuntu/workspace/seunghoon/z_dataset/diablo2_dataset_ver2/labelme_dataset_for_recognition/imgs_src/000000879494.png', '비교']\n",
      "-----------------------------------------\n"
     ]
    },
    {
     "data": {
      "image/png": "[encoded data removed]",
      "text/plain": [
       "<PIL.PngImagePlugin.PngImageFile image mode=RGBA size=40x15>"
      ]
     },
     "metadata": {},
     "output_type": "display_data"
    },
    {
     "name": "stdout",
     "output_type": "stream",
     "text": [
      "블러드\n"
     ]
    },
    {
     "data": {
      "image/png": "[encoded data removed]",
      "text/plain": [
       "<PIL.PngImagePlugin.PngImageFile image mode=RGBA size=53x15>"
      ]
     },
     "metadata": {},
     "output_type": "display_data"
    },
    {
     "name": "stdout",
     "output_type": "stream",
     "text": [
      "그래스프\n"
     ]
    },
    {
     "data": {
      "image/png": "[encoded data removed]",
      "text/plain": [
       "<PIL.PngImagePlugin.PngImageFile image mode=RGBA size=27x16>"
      ]
     },
     "metadata": {},
     "output_type": "display_data"
    },
    {
     "name": "stdout",
     "output_type": "stream",
     "text": [
      "착용\n"
     ]
    },
    {
     "data": {
      "image/png": "[encoded data removed]",
      "text/plain": [
       "<PIL.PngImagePlugin.PngImageFile image mode=RGBA size=77x16>"
      ]
     },
     "metadata": {},
     "output_type": "display_data"
    },
    {
     "name": "stdout",
     "output_type": "stream",
     "text": [
      "가능한 레벨:\n"
     ]
    },
    {
     "data": {
      "image/png": "[encoded data removed]",
      "text/plain": [
       "<PIL.PngImagePlugin.PngImageFile image mode=RGBA size=14x10>"
      ]
     },
     "metadata": {},
     "output_type": "display_data"
    },
    {
     "name": "stdout",
     "output_type": "stream",
     "text": [
      "51\n"
     ]
    },
    {
     "data": {
      "image/png": "[encoded data removed]",
      "text/plain": [
       "<PIL.PngImagePlugin.PngImageFile image mode=RGBA size=56x12>"
      ]
     },
     "metadata": {},
     "output_type": "display_data"
    },
    {
     "name": "stdout",
     "output_type": "stream",
     "text": [
      "카오스큐브\n"
     ]
    },
    {
     "data": {
      "image/png": "[encoded data removed]",
      "text/plain": [
       "<PIL.PngImagePlugin.PngImageFile image mode=RGBA size=35x12>"
      ]
     },
     "metadata": {},
     "output_type": "display_data"
    },
    {
     "name": "stdout",
     "output_type": "stream",
     "text": [
      "명품관\n"
     ]
    },
    {
     "data": {
      "image/png": "[encoded data removed]",
      "text/plain": [
       "<PIL.PngImagePlugin.PngImageFile image mode=RGBA size=56x13>"
      ]
     },
     "metadata": {},
     "output_type": "display_data"
    },
    {
     "name": "stdout",
     "output_type": "stream",
     "text": [
      "신청합니다\n"
     ]
    },
    {
     "data": {
      "image/png": "[encoded data removed]",
      "text/plain": [
       "<PIL.PngImagePlugin.PngImageFile image mode=RGBA size=32x12>"
      ]
     },
     "metadata": {},
     "output_type": "display_data"
    },
    {
     "name": "stdout",
     "output_type": "stream",
     "text": [
      "+10%\n"
     ]
    },
    {
     "data": {
      "image/png": "[encoded data removed]",
      "text/plain": [
       "<PIL.PngImagePlugin.PngImageFile image mode=RGBA size=101x16>"
      ]
     },
     "metadata": {},
     "output_type": "display_data"
    },
    {
     "name": "stdout",
     "output_type": "stream",
     "text": [
      "매우빠른캐스팅\n"
     ]
    }
   ],
   "source": [
    "# recognition dataset 작업결과 확인\n",
    "test_imgs = sorted(glob(os.path.join(dst_dir_path, \"imgs_src\", '*')))\n",
    "print(f\"crop된 이미지 갯수: {len(test_imgs)}\")\n",
    "# print(test_imgs[-1])\n",
    "# display(Image.open(test_imgs[-1]))\n",
    "    \n",
    "print(len(data_lst))\n",
    "print(data_lst[-1])\n",
    "print('-----------------------------------------')\n",
    "csv_file = os.path.join(dst_dir_path, 'data_src.csv')\n",
    "\n",
    "with open(csv_file, \"r\")as f:\n",
    "    for idx, data in enumerate(csv.reader(f)):\n",
    "        if idx == 0:\n",
    "            continue\n",
    "        img_path = data[1]\n",
    "        label = data[2]\n",
    "        \n",
    "        display(Image.open(img_path))\n",
    "        print(label)\n",
    "        if idx == 10:\n",
    "            break"
   ]
  },
  {
   "cell_type": "code",
   "execution_count": 6,
   "id": "e6bca1b9-f29a-448f-b0fa-eac34751f7de",
   "metadata": {},
   "outputs": [
    {
     "name": "stderr",
     "output_type": "stream",
     "text": [
      "100%|██████████| 22886/22886 [00:38<00:00, 595.89it/s]\n"
     ]
    }
   ],
   "source": [
    "# make detection dataset\n",
    "\n",
    "dst_dir_path = os.path.join(root_path, target_folder_name, \"labelme_dataset_for_detection\")\n",
    "dst_img_dir_path = os.path.join(dst_dir_path, 'imgs_src')\n",
    "dst_txt_dir_path = os.path.join(dst_dir_path, 'txts_src')\n",
    "os.makedirs(dst_img_dir_path, exist_ok=True)\n",
    "os.makedirs(dst_txt_dir_path, exist_ok=True)\n",
    "\n",
    "for img in tqdm(src_imgs):\n",
    "    # copy img\n",
    "    img_dst_path = os.path.join(dst_img_dir_path, os.path.basename(img))\n",
    "    shutil.copy(img, img_dst_path)\n",
    "    \n",
    "    # make txt file\n",
    "    json_path = img.replace(os.path.splitext(img)[1], \".json\")\n",
    "    with open(json_path, \"r\")as f:\n",
    "        data = json.load(f)\n",
    "        \n",
    "    final_label_lst = []\n",
    "    for inform in data[\"shapes\"]:\n",
    "        tmp_label_lst = []\n",
    "        for tmp_coors in inform[\"points\"]:\n",
    "            for tmp_coor in tmp_coors:\n",
    "                tmp_label_lst.append(tmp_coor)\n",
    "        tmp_label_lst.append(inform[\"label\"])\n",
    "        final_label_lst.append(tmp_label_lst)\n",
    "        \n",
    "    # print(final_label_lst)\n",
    "    txt_path = img_dst_path.replace(os.path.splitext(img)[1], \".txt\").replace(\"imgs_src\", \"txts_src\")\n",
    "    with open(txt_path, \"w\") as f:\n",
    "        for label_line in final_label_lst:\n",
    "            result = \"\"\n",
    "            for t in label_line:\n",
    "                result += str(t) + \",\"\n",
    "            \n",
    "            f.write(result[:-1] + \"\\n\")"
   ]
  }
 ],
 "metadata": {
  "kernelspec": {
   "display_name": "seunghoon",
   "language": "python",
   "name": "seunghoon"
  },
  "language_info": {
   "codemirror_mode": {
    "name": "ipython",
    "version": 3
   },
   "file_extension": ".py",
   "mimetype": "text/x-python",
   "name": "python",
   "nbconvert_exporter": "python",
   "pygments_lexer": "ipython3",
   "version": "3.8.17"
  }
 },
 "nbformat": 4,
 "nbformat_minor": 5
}
